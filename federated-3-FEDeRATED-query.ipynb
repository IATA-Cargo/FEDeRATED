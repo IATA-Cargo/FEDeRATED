{
 "cells": [
  {
   "cell_type": "code",
   "execution_count": null,
   "id": "7ceaa7bf",
   "metadata": {},
   "outputs": [],
   "source": [
    "pip install rdflib"
   ]
  },
  {
   "cell_type": "code",
   "execution_count": null,
   "id": "8b404354",
   "metadata": {},
   "outputs": [],
   "source": [
    "from urllib.parse import urlparse\n",
    "from rdflib import Graph\n",
    "\n",
    "g = Graph()\n",
    "g.parse(\"/Users/henkmulder/Dropbox/__Digital Cargo/FEDeRATED/SPARQL/iata-federated.json\")\n",
    "g.parse(\"/Users/henkmulder/Dropbox/__Digital Cargo/FEDeRATED/SPARQL/vedia-federated.json\")\n",
    "g.parse(\"/Users/henkmulder/Dropbox/__Digital Cargo/FEDeRATED/SPARQL/condognotto-federated.json\")\n",
    "g.parse(\"/Users/henkmulder/Dropbox/__Digital Cargo/FEDeRATED/SPARQL/simple-federated.json\")\n",
    "g.parse(\"/Users/henkmulder/Dropbox/__Digital Cargo/FEDeRATED/SPARQL/transaction_1-federated.json\")\n",
    "\n",
    "\n",
    "v = g.serialize(format=\"ttl\")\n",
    "\n",
    "print(v)"
   ]
  },
  {
   "cell_type": "code",
   "execution_count": null,
   "id": "214a426f",
   "metadata": {},
   "outputs": [],
   "source": [
    "#\n",
    "#\n",
    "# Let's see of there is any data\n",
    "#\n",
    "#\n",
    "qres = g.query(\"\"\"\n",
    "SELECT DISTINCT ?this ?relation ?that\n",
    "WHERE { \n",
    "    <https://www.vedia-fi/businesstransaction14321411> ?relation ?that .\n",
    "}\"\"\")\n",
    "\n",
    "for row in qres:\n",
    "    print(f\"{row.this} {row.relation} {row.that}\")\n"
   ]
  },
  {
   "cell_type": "code",
   "execution_count": null,
   "id": "d736d94d",
   "metadata": {},
   "outputs": [],
   "source": [
    "#\n",
    "#\n",
    "# Let's see of there is any data\n",
    "#\n",
    "#\n",
    "qres = g.query(\"\"\"\n",
    "SELECT DISTINCT ?this ?relation ?that\n",
    "WHERE { \n",
    "    ?this ?relation ?that .\n",
    "}\"\"\")\n",
    "\n",
    "for row in qres:\n",
    "    print(f\"{row.this} {row.relation} {row.that}\")"
   ]
  },
  {
   "cell_type": "code",
   "execution_count": null,
   "id": "7343e4ac",
   "metadata": {
    "scrolled": true
   },
   "outputs": [],
   "source": []
  },
  {
   "cell_type": "code",
   "execution_count": null,
   "id": "84b68393",
   "metadata": {},
   "outputs": [],
   "source": []
  },
  {
   "cell_type": "code",
   "execution_count": null,
   "id": "3045e5ea",
   "metadata": {},
   "outputs": [],
   "source": []
  },
  {
   "cell_type": "code",
   "execution_count": null,
   "id": "a119734f",
   "metadata": {},
   "outputs": [],
   "source": []
  }
 ],
 "metadata": {
  "kernelspec": {
   "display_name": "Python 3 (ipykernel)",
   "language": "python",
   "name": "python3"
  },
  "language_info": {
   "codemirror_mode": {
    "name": "ipython",
    "version": 3
   },
   "file_extension": ".py",
   "mimetype": "text/x-python",
   "name": "python",
   "nbconvert_exporter": "python",
   "pygments_lexer": "ipython3",
   "version": "3.9.10"
  }
 },
 "nbformat": 4,
 "nbformat_minor": 5
}
