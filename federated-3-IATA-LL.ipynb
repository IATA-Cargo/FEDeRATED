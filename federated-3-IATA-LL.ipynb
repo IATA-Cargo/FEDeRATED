{
 "cells": [
  {
   "cell_type": "code",
   "execution_count": null,
   "id": "07c748b7",
   "metadata": {},
   "outputs": [],
   "source": [
    "pip install rdflib"
   ]
  },
  {
   "cell_type": "code",
   "execution_count": null,
   "id": "080cece2",
   "metadata": {},
   "outputs": [],
   "source": [
    "from urllib.parse import urlparse\n",
    "from rdflib import Graph\n",
    "\n",
    "g = Graph()\n",
    "g.parse(\"companies\")\n",
    "g.parse(\"Booking_038296\")\n",
    "g.parse(\"Price_077454\")\n",
    "\n",
    "v = g.serialize(format=\"ttl\")\n",
    "print(v)\n"
   ]
  },
  {
   "cell_type": "code",
   "execution_count": null,
   "id": "64250428",
   "metadata": {},
   "outputs": [],
   "source": [
    "#\n",
    "#\n",
    "# Let's see of there is any data\n",
    "#\n",
    "#\n",
    "qres = g.query(\"\"\"\n",
    "SELECT DISTINCT ?this ?relation ?that\n",
    "WHERE { \n",
    "    ?this ?relation ?that .\n",
    "}\"\"\")\n",
    "\n",
    "for row in qres:\n",
    "    print(f\"{row.this} {row.relation} {row.that}\")\n"
   ]
  },
  {
   "cell_type": "code",
   "execution_count": null,
   "id": "bfb68d52",
   "metadata": {},
   "outputs": [],
   "source": [
    "#\n",
    "#\n",
    "# Which companies are in this data network?\n",
    "#\n",
    "#\n",
    "\n",
    "qres = g.query(\"\"\"\n",
    "SELECT DISTINCT ?this ?relation ?that\n",
    "WHERE { \n",
    "    ?this <https://onerecord.iata.org/api/CompanyInformation#companyId> ?that .\n",
    "}\"\"\")\n",
    "\n",
    "for row in qres:\n",
    "    print(f\"{row.this}\")"
   ]
  },
  {
   "cell_type": "code",
   "execution_count": null,
   "id": "b8064703",
   "metadata": {
    "scrolled": true
   },
   "outputs": [],
   "source": [
    "#\n",
    "#\n",
    "# Do any of these companies have any bookings?\n",
    "#\n",
    "#\n",
    "\n",
    "qres = g.query(\"\"\"\n",
    "SELECT DISTINCT ?this ?relation ?that\n",
    "WHERE { \n",
    "    ?this <https://onerecord.iata.org/booking:carrier> ?that .\n",
    "}\"\"\")\n",
    "\n",
    "for row in qres:\n",
    "    print(f\"{row.this} {row.that}\")"
   ]
  },
  {
   "cell_type": "code",
   "execution_count": null,
   "id": "eaa7cbcd",
   "metadata": {},
   "outputs": [],
   "source": [
    "#\n",
    "#\n",
    "# Let's get that booking from IATA\n",
    "#\n",
    "#\n",
    "qres = g.query(\"\"\"\n",
    "SELECT DISTINCT ?this ?relation ?that\n",
    "WHERE { \n",
    "    <http://localhost:8080/companies/iata/los/Booking_038296> ?relation ?that .\n",
    "}\"\"\")\n",
    "\n",
    "for row in qres:\n",
    "    print(f\"{row.this} {row.relation} {row.that}\")\n"
   ]
  },
  {
   "cell_type": "code",
   "execution_count": null,
   "id": "2d460c3c",
   "metadata": {},
   "outputs": [],
   "source": [
    "#\n",
    "#\n",
    "# Who is Vedia Oy? Let's have a look\n",
    "#\n",
    "#\n",
    "qres = g.query(\"\"\"\n",
    "SELECT DISTINCT ?this ?relation ?that\n",
    "WHERE { \n",
    "    <http://localhost:8080/companies/iata> ?relation ?that .\n",
    "}\"\"\")\n",
    "\n",
    "for row in qres:\n",
    "    print(f\"{row.this} {row.relation} {row.that}\")"
   ]
  },
  {
   "cell_type": "code",
   "execution_count": null,
   "id": "7e5cfcfe",
   "metadata": {},
   "outputs": [],
   "source": []
  }
 ],
 "metadata": {
  "kernelspec": {
   "display_name": "Python 3 (ipykernel)",
   "language": "python",
   "name": "python3"
  },
  "language_info": {
   "codemirror_mode": {
    "name": "ipython",
    "version": 3
   },
   "file_extension": ".py",
   "mimetype": "text/x-python",
   "name": "python",
   "nbconvert_exporter": "python",
   "pygments_lexer": "ipython3",
   "version": "3.9.10"
  }
 },
 "nbformat": 4,
 "nbformat_minor": 5
}
